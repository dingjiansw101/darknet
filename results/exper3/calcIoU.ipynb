{
 "cells": [
  {
   "cell_type": "code",
   "execution_count": 1,
   "metadata": {
    "collapsed": false,
    "deletable": true,
    "editable": true
   },
   "outputs": [],
   "source": [
    "import numpy as np\n",
    "def add(a, b):\n",
    "    return a + b\n",
    "def IoU(a, b):\n",
    "    #xmin1, ymin1, xmax1, ymax1 = a[0], a[1], a[2], a[3]\n",
    "    #xmin2, ymin2, xmax2, ymax2 = b[0], b[1], b[2], b[3]\n",
    "    lu = np.maximum(a[:2], b[:2])\n",
    "    rd = np.minimum(a[2:], b[2:])\n",
    "    intersection = np.maximum(0.0, rd - lu)\n",
    "    inter_square = intersection[0]*intersection[1]\n",
    "    \n",
    "    square1 = (a[2] - a[0])*(a[3] - a[1])\n",
    "    square2 = (b[2] - b[0])*(b[3] - b[1])\n",
    "    print(inter_square)\n",
    "    union_square = np.maximum(square1 + square2 - inter_square, 1e-10)\n",
    "    print(union_square)\n",
    "    iou = inter_square/union_square\n",
    "    if (iou < 0):\n",
    "        iou = 0\n",
    "    elif(iou > 1):\n",
    "        iou = 1\n",
    "    return iou\n",
    "    "
   ]
  },
  {
   "cell_type": "code",
   "execution_count": 2,
   "metadata": {
    "collapsed": false,
    "deletable": true,
    "editable": true
   },
   "outputs": [
    {
     "name": "stdout",
     "output_type": "stream",
     "text": [
      "[2 3]\n",
      "[4 4]\n",
      "2.0\n",
      "17.0\n",
      "0.117647058824\n"
     ]
    }
   ],
   "source": [
    "a = [1, 1, 6, 4]\n",
    "b = [ 2, 3, 4, 5]\n",
    "lu = np.maximum(a[:2], b[:2])\n",
    "rd = np.minimum(a[2:], b[2:])\n",
    "print(lu)\n",
    "print(rd)\n",
    "print(IoU(a, b))"
   ]
  }
 ],
 "metadata": {
  "kernelspec": {
   "display_name": "Python 2",
   "language": "python",
   "name": "python2"
  },
  "language_info": {
   "codemirror_mode": {
    "name": "ipython",
    "version": 2
   },
   "file_extension": ".py",
   "mimetype": "text/x-python",
   "name": "python",
   "nbconvert_exporter": "python",
   "pygments_lexer": "ipython2",
   "version": "2.7.12"
  }
 },
 "nbformat": 4,
 "nbformat_minor": 2
}
